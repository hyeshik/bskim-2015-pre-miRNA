{
 "metadata": {
  "name": "",
  "signature": "sha256:dd41002effcb2e08ebe4421a3d27406b4c3b467c083136387d745149fd63deda"
 },
 "nbformat": 3,
 "nbformat_minor": 0,
 "worksheets": [
  {
   "cells": [
    {
     "cell_type": "markdown",
     "metadata": {},
     "source": [
      "## Load read alignments to miRNA hairpins and summarize the modification frequency throughout the 3' end positions of templated nucleotides.\n",
      "\n",
      "Hyeshik Chang  \n",
      "*Aug 8, 2014*"
     ]
    },
    {
     "cell_type": "code",
     "collapsed": false,
     "input": [
      "import pandas as pd"
     ],
     "language": "python",
     "metadata": {},
     "outputs": [],
     "prompt_number": 1
    },
    {
     "cell_type": "code",
     "collapsed": false,
     "input": [
      "ctl = pd.read_table('../stats/Control.mods.txt.gz', compression='gzip').fillna('')\n",
      "kd = pd.read_table('../stats/TUT247KD.mods.txt.gz', compression='gzip').fillna('')"
     ],
     "language": "python",
     "metadata": {},
     "outputs": [],
     "prompt_number": 2
    },
    {
     "cell_type": "code",
     "collapsed": false,
     "input": [
      "ctl.head()"
     ],
     "language": "python",
     "metadata": {},
     "outputs": [
      {
       "html": [
        "<div style=\"max-height:1000px;max-width:1500px;overflow:auto;\">\n",
        "<table border=\"1\" class=\"dataframe\">\n",
        "  <thead>\n",
        "    <tr style=\"text-align: right;\">\n",
        "      <th></th>\n",
        "      <th>hairpin</th>\n",
        "      <th>seqNo</th>\n",
        "      <th>readCount</th>\n",
        "      <th>readSeq</th>\n",
        "      <th>refEndPos</th>\n",
        "      <th>addedSeq</th>\n",
        "    </tr>\n",
        "  </thead>\n",
        "  <tbody>\n",
        "    <tr>\n",
        "      <th>0</th>\n",
        "      <td>   hsa-mir-21</td>\n",
        "      <td> 1</td>\n",
        "      <td> 514918</td>\n",
        "      <td>     ATGTTGACTGTTGAATCTCATGGCAACACCAGTCGATGGGCTGTC</td>\n",
        "      <td> 77</td>\n",
        "      <td>  </td>\n",
        "    </tr>\n",
        "    <tr>\n",
        "      <th>1</th>\n",
        "      <td>   hsa-mir-21</td>\n",
        "      <td> 2</td>\n",
        "      <td> 252531</td>\n",
        "      <td>    ATGTTGACTGTTGAATCTCATGGCAACACCAGTCGATGGGCTGTCT</td>\n",
        "      <td> 78</td>\n",
        "      <td>  </td>\n",
        "    </tr>\n",
        "    <tr>\n",
        "      <th>2</th>\n",
        "      <td>  hsa-mir-423</td>\n",
        "      <td> 3</td>\n",
        "      <td> 211999</td>\n",
        "      <td>      GAGACTTTTCTATTTTCCAAAAGCTCGGTCTGAGGCCCCTCAGT</td>\n",
        "      <td> 85</td>\n",
        "      <td>  </td>\n",
        "    </tr>\n",
        "    <tr>\n",
        "      <th>3</th>\n",
        "      <td> hsa-let-7f-1</td>\n",
        "      <td> 4</td>\n",
        "      <td> 132804</td>\n",
        "      <td> TATAGTTGTGGGGTAGTGATTTTACCCTGTTCAGGAGATAACTATA...</td>\n",
        "      <td> 93</td>\n",
        "      <td>  </td>\n",
        "    </tr>\n",
        "    <tr>\n",
        "      <th>4</th>\n",
        "      <td> hsa-let-7f-1</td>\n",
        "      <td> 5</td>\n",
        "      <td> 132175</td>\n",
        "      <td> TATAGTTGTGGGGTAGTGATTTTACCCTGTTCAGGAGATAACTATA...</td>\n",
        "      <td> 93</td>\n",
        "      <td> T</td>\n",
        "    </tr>\n",
        "  </tbody>\n",
        "</table>\n",
        "</div>"
       ],
       "metadata": {},
       "output_type": "pyout",
       "prompt_number": 3,
       "text": [
        "        hairpin  seqNo  readCount  \\\n",
        "0    hsa-mir-21      1     514918   \n",
        "1    hsa-mir-21      2     252531   \n",
        "2   hsa-mir-423      3     211999   \n",
        "3  hsa-let-7f-1      4     132804   \n",
        "4  hsa-let-7f-1      5     132175   \n",
        "\n",
        "                                             readSeq  refEndPos addedSeq  \n",
        "0      ATGTTGACTGTTGAATCTCATGGCAACACCAGTCGATGGGCTGTC         77           \n",
        "1     ATGTTGACTGTTGAATCTCATGGCAACACCAGTCGATGGGCTGTCT         78           \n",
        "2       GAGACTTTTCTATTTTCCAAAAGCTCGGTCTGAGGCCCCTCAGT         85           \n",
        "3  TATAGTTGTGGGGTAGTGATTTTACCCTGTTCAGGAGATAACTATA...         93           \n",
        "4  TATAGTTGTGGGGTAGTGATTTTACCCTGTTCAGGAGATAACTATA...         93        T  "
       ]
      }
     ],
     "prompt_number": 3
    },
    {
     "cell_type": "code",
     "collapsed": false,
     "input": [
      "kd.head()"
     ],
     "language": "python",
     "metadata": {},
     "outputs": [
      {
       "html": [
        "<div style=\"max-height:1000px;max-width:1500px;overflow:auto;\">\n",
        "<table border=\"1\" class=\"dataframe\">\n",
        "  <thead>\n",
        "    <tr style=\"text-align: right;\">\n",
        "      <th></th>\n",
        "      <th>hairpin</th>\n",
        "      <th>seqNo</th>\n",
        "      <th>readCount</th>\n",
        "      <th>readSeq</th>\n",
        "      <th>refEndPos</th>\n",
        "      <th>addedSeq</th>\n",
        "    </tr>\n",
        "  </thead>\n",
        "  <tbody>\n",
        "    <tr>\n",
        "      <th>0</th>\n",
        "      <td>   hsa-mir-21</td>\n",
        "      <td> 1</td>\n",
        "      <td> 498732</td>\n",
        "      <td>     ATGTTGACTGTTGAATCTCATGGCAACACCAGTCGATGGGCTGTC</td>\n",
        "      <td> 77</td>\n",
        "      <td> </td>\n",
        "    </tr>\n",
        "    <tr>\n",
        "      <th>1</th>\n",
        "      <td> hsa-let-7f-1</td>\n",
        "      <td> 2</td>\n",
        "      <td> 218580</td>\n",
        "      <td> TATAGTTGTGGGGTAGTGATTTTACCCTGTTCAGGAGATAACTATA...</td>\n",
        "      <td> 81</td>\n",
        "      <td> </td>\n",
        "    </tr>\n",
        "    <tr>\n",
        "      <th>2</th>\n",
        "      <td> hsa-let-7a-1</td>\n",
        "      <td> 3</td>\n",
        "      <td> 193259</td>\n",
        "      <td> TATAGTTTTAGGGTCACACCCACCACTGGGAGATAACTATACAATC...</td>\n",
        "      <td> 86</td>\n",
        "      <td> </td>\n",
        "    </tr>\n",
        "    <tr>\n",
        "      <th>3</th>\n",
        "      <td> hsa-let-7f-1</td>\n",
        "      <td> 4</td>\n",
        "      <td> 168766</td>\n",
        "      <td> TATAGTTGTGGGGTAGTGATTTTACCCTGTTCAGGAGATAACTATA...</td>\n",
        "      <td> 92</td>\n",
        "      <td> </td>\n",
        "    </tr>\n",
        "    <tr>\n",
        "      <th>4</th>\n",
        "      <td> hsa-let-7f-1</td>\n",
        "      <td> 5</td>\n",
        "      <td> 150099</td>\n",
        "      <td> TATAGTTGTGGGGTAGTGATTTTACCCTGTTCAGGAGATAACTATA...</td>\n",
        "      <td> 93</td>\n",
        "      <td> </td>\n",
        "    </tr>\n",
        "  </tbody>\n",
        "</table>\n",
        "</div>"
       ],
       "metadata": {},
       "output_type": "pyout",
       "prompt_number": 4,
       "text": [
        "        hairpin  seqNo  readCount  \\\n",
        "0    hsa-mir-21      1     498732   \n",
        "1  hsa-let-7f-1      2     218580   \n",
        "2  hsa-let-7a-1      3     193259   \n",
        "3  hsa-let-7f-1      4     168766   \n",
        "4  hsa-let-7f-1      5     150099   \n",
        "\n",
        "                                             readSeq  refEndPos addedSeq  \n",
        "0      ATGTTGACTGTTGAATCTCATGGCAACACCAGTCGATGGGCTGTC         77           \n",
        "1  TATAGTTGTGGGGTAGTGATTTTACCCTGTTCAGGAGATAACTATA...         81           \n",
        "2  TATAGTTTTAGGGTCACACCCACCACTGGGAGATAACTATACAATC...         86           \n",
        "3  TATAGTTGTGGGGTAGTGATTTTACCCTGTTCAGGAGATAACTATA...         92           \n",
        "4  TATAGTTGTGGGGTAGTGATTTTACCCTGTTCAGGAGATAACTATA...         93           "
       ]
      }
     ],
     "prompt_number": 4
    },
    {
     "cell_type": "markdown",
     "metadata": {},
     "source": [
      "Remove non-U tails"
     ]
    },
    {
     "cell_type": "code",
     "collapsed": false,
     "input": [
      "ctl = ctl[ctl['addedSeq'].apply(lambda x: x.strip('T') == '')]\n",
      "kd = kd[kd['addedSeq'].apply(lambda x: x.strip('T') == '')]"
     ],
     "language": "python",
     "metadata": {},
     "outputs": [],
     "prompt_number": 5
    },
    {
     "cell_type": "markdown",
     "metadata": {},
     "source": [
      "Calculate the length of U-tails"
     ]
    },
    {
     "cell_type": "code",
     "collapsed": false,
     "input": [
      "ctl['modlen'] = ctl['addedSeq'].apply(len)\n",
      "kd['modlen'] = kd['addedSeq'].apply(len)"
     ],
     "language": "python",
     "metadata": {},
     "outputs": [],
     "prompt_number": 6
    },
    {
     "cell_type": "markdown",
     "metadata": {},
     "source": [
      "Convert the read alignments to a 2D array that holds read counts per 3' end position and modification length."
     ]
    },
    {
     "cell_type": "code",
     "collapsed": false,
     "input": [
      "MAXIMUM_END_POSITION = 200\n",
      "MAXIMUM_MODIFICATION = 20\n",
      "\n",
      "def build_modcntarray(tbl):\n",
      "    cntarrays = {}\n",
      "\n",
      "    for hairpin, rows in tbl.groupby('hairpin'):\n",
      "        modcnts = rows.groupby(('refEndPos', 'modlen')).agg({'readCount': np.sum}).reset_index()\n",
      "\n",
      "        cnts_array = np.zeros([MAXIMUM_END_POSITION + 1, MAXIMUM_MODIFICATION + 1], np.float64)\n",
      "        for rowi, row in modcnts.iterrows():\n",
      "            cnts_array[row['refEndPos'], min(row['modlen'], MAXIMUM_MODIFICATION)] += row['readCount']\n",
      "\n",
      "        cntarrays[hairpin] = cnts_array\n",
      "\n",
      "    return cntarrays\n",
      "\n",
      "ctlcnt = build_modcntarray(ctl)\n",
      "kdcnt = build_modcntarray(kd)"
     ],
     "language": "python",
     "metadata": {},
     "outputs": [],
     "prompt_number": 7
    },
    {
     "cell_type": "markdown",
     "metadata": {},
     "source": [
      "Select the most frequent 3' ends with no untemplated nucleotide additions as reference positions based on control."
     ]
    },
    {
     "cell_type": "code",
     "collapsed": false,
     "input": [
      "refarr = ctlcnt\n",
      "\n",
      "mostfreq_pos = {}\n",
      "for hairpin, cntarr in refarr.items():\n",
      "    mostfreq_pos[hairpin] = cntarr.sum(axis=1).argmax()\n",
      "\n",
      "mostfreq_pos"
     ],
     "language": "python",
     "metadata": {},
     "outputs": [
      {
       "metadata": {},
       "output_type": "pyout",
       "prompt_number": 8,
       "text": [
        "{'hsa-mir-3607': 80,\n",
        " 'hsa-let-7c': 87,\n",
        " 'hsa-mir-148b': 94,\n",
        " 'hsa-mir-4521': 59,\n",
        " 'hsa-mir-1307': 112,\n",
        " 'hsa-mir-26b': 77,\n",
        " 'hsa-mir-105-1': 81,\n",
        " 'hsa-mir-222': 103,\n",
        " 'hsa-mir-16-1': 87,\n",
        " 'hsa-mir-30c-1': 87,\n",
        " 'hsa-mir-103a-1': 80,\n",
        " 'hsa-mir-9-1': 87,\n",
        " 'hsa-mir-449c': 85,\n",
        " 'hsa-mir-1248': 101,\n",
        " 'hsa-mir-1272': 55,\n",
        " 'hsa-let-7d': 93,\n",
        " 'hsa-mir-107': 81,\n",
        " 'hsa-mir-185': 80,\n",
        " 'hsa-let-7f-2': 88,\n",
        " 'hsa-mir-101-1': 77,\n",
        " 'hsa-mir-6886': 70,\n",
        " 'hsa-let-7e': 84,\n",
        " 'hsa-mir-301a': 58,\n",
        " 'hsa-mir-1291': 70,\n",
        " 'hsa-mir-26a-1': 80,\n",
        " 'hsa-mir-339': 81,\n",
        " 'hsa-mir-105-2': 81,\n",
        " 'hsa-mir-4485': 57,\n",
        " 'hsa-mir-26a-2': 81,\n",
        " 'hsa-mir-30b': 86,\n",
        " 'hsa-mir-99a': 80,\n",
        " 'hsa-mir-93': 82,\n",
        " 'hsa-mir-664b': 74,\n",
        " 'hsa-mir-20a': 76,\n",
        " 'hsa-mir-98': 110,\n",
        " 'hsa-mir-320a': 75,\n",
        " 'hsa-mir-196b': 81,\n",
        " 'hsa-mir-27b': 91,\n",
        " 'hsa-mir-423': 85,\n",
        " 'hsa-mir-1229': 79,\n",
        " 'hsa-mir-191': 89,\n",
        " 'hsa-mir-449b': 86,\n",
        " 'hsa-mir-17': 83,\n",
        " 'hsa-mir-744': 98,\n",
        " 'hsa-mir-345': 85,\n",
        " 'hsa-let-7a-3': 82,\n",
        " 'hsa-mir-320e': 59,\n",
        " 'hsa-mir-195': 73,\n",
        " 'hsa-let-7g': 92,\n",
        " 'hsa-mir-30d': 77,\n",
        " 'hsa-mir-126': 62,\n",
        " 'hsa-let-7i': 93,\n",
        " 'hsa-mir-182': 96,\n",
        " 'hsa-mir-33b': 84,\n",
        " 'hsa-mir-103a-2': 80,\n",
        " 'hsa-mir-34a': 95,\n",
        " 'hsa-mir-18a': 80,\n",
        " 'hsa-mir-16-2': 71,\n",
        " 'hsa-mir-221': 97,\n",
        " 'hsa-let-7a-2': 81,\n",
        " 'hsa-mir-7-1': 97,\n",
        " 'hsa-mir-320c-1': 77,\n",
        " 'hsa-mir-183': 96,\n",
        " 'hsa-mir-30e': 90,\n",
        " 'hsa-mir-3653': 104,\n",
        " 'hsa-mir-186': 85,\n",
        " 'hsa-mir-6516': 87,\n",
        " 'hsa-mir-10b': 98,\n",
        " 'hsa-mir-24-2': 81,\n",
        " 'hsa-mir-18b': 77,\n",
        " 'hsa-let-7b': 90,\n",
        " 'hsa-mir-15a': 81,\n",
        " 'hsa-let-7a-1': 87,\n",
        " 'hsa-mir-100': 70,\n",
        " 'hsa-mir-196a-2': 93,\n",
        " 'hsa-mir-6724-4': 43,\n",
        " 'hsa-mir-24-1': 75,\n",
        " 'hsa-mir-10a': 93,\n",
        " 'hsa-mir-449a': 87,\n",
        " 'hsa-mir-1226': 85,\n",
        " 'hsa-mir-15b': 88,\n",
        " 'hsa-let-7f-1': 93,\n",
        " 'hsa-mir-30c-2': 78,\n",
        " 'hsa-mir-21': 77,\n",
        " 'hsa-mir-30a': 78,\n",
        " 'hsa-mir-31': 76,\n",
        " 'hsa-mir-106b': 84}"
       ]
      }
     ],
     "prompt_number": 8
    },
    {
     "cell_type": "markdown",
     "metadata": {},
     "source": [
      "Try a circle plot for let-7a-1"
     ]
    },
    {
     "cell_type": "code",
     "collapsed": false,
     "input": [
      "hairpinname = 'hsa-let-7a-1'\n",
      "mostfreq = mostfreq_pos[hairpinname]"
     ],
     "language": "python",
     "metadata": {},
     "outputs": [],
     "prompt_number": 9
    },
    {
     "cell_type": "code",
     "collapsed": false,
     "input": [
      "# normalize to total read count aligned to the hairpin\n",
      "ctlfreqarr = ctlcnt[hairpinname] / ctlcnt[hairpinname].sum()\n",
      "kdfreqarr = kdcnt[hairpinname] / kdcnt[hairpinname].sum()"
     ],
     "language": "python",
     "metadata": {},
     "outputs": [],
     "prompt_number": 10
    },
    {
     "cell_type": "code",
     "collapsed": false,
     "input": [
      "endpos_range = np.arange(mostfreq-10, mostfreq+4)\n",
      "modcnt_range = np.arange(5)\n",
      "\n",
      "sc_pos_x = np.array([ep for ep in endpos_range for mc in modcnt_range])\n",
      "sc_pos_y = np.array([mc for ep in endpos_range for mc in modcnt_range])\n",
      "sc_freq_cnt = np.array([ctlfreqarr[ep, mc] for ep in endpos_range for mc in modcnt_range])\n",
      "sc_freq_kd = np.array([kdfreqarr[ep, mc] for ep in endpos_range for mc in modcnt_range])\n",
      "\n",
      "def adjust_axis(ax, sample):\n",
      "    plt.xticks(endpos_range, endpos_range - mostfreq)\n",
      "    plt.xlim(endpos_range[0] - 0.5, endpos_range[-1] + 0.5)\n",
      "    plt.ylim(-1, modcnt_range[-1] + 1)\n",
      "    plt.yticks(modcnt_range)\n",
      "    plt.grid(True, ls='-', alpha=0.2)\n",
      "    plt.annotate(sample, (endpos_range[0], modcnt_range[-1]), va='center', fontsize=12, fontweight='bold')\n",
      "\n",
      "    plt.setp(ax.get_xticklines(), visible=False)\n",
      "    plt.setp(ax.get_yticklines(), visible=False)\n",
      "    ax.set_frame_on(False)\n",
      "\n",
      "fig = plt.figure(figsize=(6, 3.3))\n",
      "\n",
      "ax = fig.add_subplot(2, 1, 1)\n",
      "\n",
      "plt.scatter(sc_pos_x, sc_pos_y, s=sc_freq_cnt*1000, lw=0, c='#10207a', alpha=0.5)\n",
      "adjust_axis(ax, 'Control')\n",
      "\n",
      "ax = fig.add_subplot(2, 1, 2)\n",
      "\n",
      "plt.scatter(sc_pos_x, sc_pos_y, s=sc_freq_kd*1000, lw=0, c='#802030', alpha=0.5)\n",
      "adjust_axis(ax, 'TUT2/4/7 KD')\n",
      "plt.setp(ax.get_xticklabels(), visible=False)\n",
      "\n",
      "plt.subplots_adjust(hspace=0.3)"
     ],
     "language": "python",
     "metadata": {},
     "outputs": [
      {
       "metadata": {},
       "output_type": "display_data",
       "png": "[encoded data removed]",
       "text": [
        "<matplotlib.figure.Figure at 0x7f20eb8daf28>"
       ]
      }
     ],
     "prompt_number": 11
    },
    {
     "cell_type": "markdown",
     "metadata": {},
     "source": [
      "Add sequence line in the middle."
     ]
    },
    {
     "cell_type": "code",
     "collapsed": false,
     "input": [
      "from Bio import SeqIO\n",
      "hairpin_seqs = SeqIO.to_dict(SeqIO.parse(open('../reference/hairpins.fa'), 'fasta'))"
     ],
     "language": "python",
     "metadata": {},
     "outputs": [],
     "prompt_number": 12
    },
    {
     "cell_type": "code",
     "collapsed": false,
     "input": [
      "max_modcnt = 4\n",
      "endpos_range = np.arange(mostfreq-10, mostfreq+4)\n",
      "modcnt_range = np.arange(max_modcnt+1)\n",
      "\n",
      "sc_pos_x = np.array([ep for ep in endpos_range for mc in modcnt_range])\n",
      "sc_pos_y = np.array([mc for ep in endpos_range for mc in modcnt_range])\n",
      "sc_freq_cnt = np.array([ctlfreqarr[ep, mc] for ep in endpos_range for mc in modcnt_range])\n",
      "sc_freq_kd = np.array([kdfreqarr[ep, mc] for ep in endpos_range for mc in modcnt_range])\n",
      "\n",
      "ref_sequence = hairpin_seqs[hairpinname][endpos_range[0]-1:endpos_range[-1]]\n",
      "\n",
      "def adjust_axis(ax, sample, showseq=False):\n",
      "    plt.axvline(mostfreq, c='black', zorder=0, alpha=0.8)\n",
      "    plt.axhline(0, c='black', zorder=0, alpha=0.8)\n",
      "\n",
      "    # draw diagonal grid lines\n",
      "    diaggrid_xbase = np.arange(endpos_range[0], endpos_range[-1] + max_modcnt + 1)\n",
      "    for x in diaggrid_xbase:\n",
      "        xpts = np.arange(x - max_modcnt, x+1)\n",
      "        ypts = np.arange(max_modcnt, -1, -1)\n",
      "        plt.plot(xpts, ypts, c='black', alpha=0.2, lw=0.5)\n",
      "\n",
      "    if showseq:\n",
      "        plt.xticks(endpos_range, list(ref_sequence))\n",
      "    else:\n",
      "        plt.xticks(endpos_range, -(endpos_range - mostfreq))\n",
      "        plt.xlabel('Length of truncation')\n",
      "\n",
      "    plt.xlim(endpos_range[0] - 0.5, endpos_range[-1] + 0.5)\n",
      "    plt.ylim(-1, modcnt_range[-1] + 0.5)\n",
      "    plt.yticks(modcnt_range)\n",
      "    plt.grid(True, ls='-', alpha=0.2)\n",
      "    plt.annotate(sample, (endpos_range[-1], modcnt_range[-1]), ha='right',\n",
      "                 va='top', fontsize=12, fontweight='bold')\n",
      "\n",
      "    plt.setp(ax.get_xticklines(), visible=False)\n",
      "    plt.setp(ax.get_yticklines(), visible=False)\n",
      "    ax.set_frame_on(False)\n",
      "    #ax.xaxis.tick_top()\n",
      "\n",
      "fig = plt.figure(figsize=(6, 3.3))\n",
      "\n",
      "ax = fig.add_subplot(2, 1, 1)\n",
      "\n",
      "plt.scatter(sc_pos_x, sc_pos_y, s=sc_freq_cnt*1000, lw=0, c='#10207a', alpha=0.5, edgecolor='none')\n",
      "adjust_axis(ax, 'Control', showseq=False)\n",
      "\n",
      "ax = fig.add_subplot(2, 1, 2)\n",
      "\n",
      "plt.scatter(sc_pos_x, sc_pos_y, s=sc_freq_kd*1000, lw=0, c='#802030', alpha=0.5, edgecolor='none')\n",
      "adjust_axis(ax, 'TUT2/4/7 KD', showseq=True)\n",
      "\n",
      "plt.subplots_adjust(hspace=0.2)\n",
      "\n",
      "plt.annotate('Total reads: ctl:{:.0f} kd:{:.0f}'.format(ctlcnt[hairpinname].sum(), kdcnt[hairpinname].sum()),\n",
      "              (1, 0), ha='right', va='bottom', xycoords='figure fraction')"
     ],
     "language": "python",
     "metadata": {},
     "outputs": [
      {
       "metadata": {},
       "output_type": "pyout",
       "prompt_number": 24,
       "text": [
        "<matplotlib.text.Annotation at 0x7f20e4cb2358>"
       ]
      },
      {
       "metadata": {},
       "output_type": "display_data",
       "png": "[encoded data removed]",
       "text": [
        "<matplotlib.figure.Figure at 0x7f20e0947a58>"
       ]
      }
     ],
     "prompt_number": 24
    },
    {
     "cell_type": "markdown",
     "metadata": {},
     "source": [
      "Circle modification plot: the mass production"
     ]
    },
    {
     "cell_type": "code",
     "collapsed": false,
     "input": [
      "for hairpin in sorted(set(ctlcnt) & set(kdcnt)):\n",
      "    if ctlcnt[hairpin].sum() < 100:\n",
      "        continue\n",
      "\n",
      "    ctlfreqarr = ctlcnt[hairpin] / ctlcnt[hairpin].sum()\n",
      "    kdfreqarr = kdcnt[hairpin] / kdcnt[hairpin].sum()\n",
      "    mostfreq = mostfreq_pos[hairpin]\n",
      "\n",
      "    print(hairpin, mostfreq)\n",
      "\n",
      "    endpos_range = np.arange(mostfreq-15, mostfreq+6)\n",
      "    modcnt_range = np.arange(5)\n",
      "\n",
      "    sc_pos_x = np.array([ep for ep in endpos_range for mc in modcnt_range])\n",
      "    sc_pos_y = np.array([mc for ep in endpos_range for mc in modcnt_range])\n",
      "    sc_freq_cnt = np.array([ctlfreqarr[ep, mc] for ep in endpos_range for mc in modcnt_range])\n",
      "    sc_freq_kd = np.array([kdfreqarr[ep, mc] for ep in endpos_range for mc in modcnt_range])\n",
      "\n",
      "    ref_sequence = str(hairpin_seqs[hairpin][endpos_range[0]-1:endpos_range[-1]].seq).replace('T', 'U')\n",
      "\n",
      "    fig = plt.figure(figsize=(6, 3.3))\n",
      "\n",
      "    ax = fig.add_subplot(2, 1, 1)\n",
      "\n",
      "    plt.scatter(sc_pos_x, sc_pos_y, s=sc_freq_cnt*1000, lw=0, c='#20406d', alpha=0.9, edgecolor='none',\n",
      "                zorder=8)\n",
      "    adjust_axis(ax, 'Control', showseq=True)\n",
      "\n",
      "    ax = fig.add_subplot(2, 1, 2)\n",
      "\n",
      "    plt.scatter(sc_pos_x, sc_pos_y, s=sc_freq_kd*1000, lw=0, c='#751111', alpha=0.9, edgecolor='none',\n",
      "                zorder=8)\n",
      "    adjust_axis(ax, 'TUT2/4/7 KD', showseq=False)\n",
      "    #ax.invert_yaxis()\n",
      "\n",
      "    plt.annotate('Total reads - ctl:{:,.0f} kd:{:,.0f}'.format(ctlcnt[hairpin].sum(), kdcnt[hairpin].sum()),\n",
      "                  (0.95, 0), ha='right', va='bottom', xycoords='figure fraction')\n",
      "\n",
      "    plt.subplots_adjust(hspace=0.2, top=0.9, bottom=0.2)\n",
      "\n",
      "    plt.savefig('../plots/modpos-freq-circles-{}.pdf'.format(hairpin[4:]))\n",
      "    plt.close(fig)\n",
      "\n",
      "print('done')"
     ],
     "language": "python",
     "metadata": {},
     "outputs": [
      {
       "output_type": "stream",
       "stream": "stdout",
       "text": [
        "hsa-let-7a-1 87\n",
        "hsa-let-7a-2"
       ]
      },
      {
       "output_type": "stream",
       "stream": "stdout",
       "text": [
        " 81\n",
        "hsa-let-7a-3"
       ]
      },
      {
       "output_type": "stream",
       "stream": "stdout",
       "text": [
        " 82\n",
        "hsa-let-7b"
       ]
      },
      {
       "output_type": "stream",
       "stream": "stdout",
       "text": [
        " 90\n",
        "hsa-let-7c"
       ]
      },
      {
       "output_type": "stream",
       "stream": "stdout",
       "text": [
        " 87\n",
        "hsa-let-7d"
       ]
      },
      {
       "output_type": "stream",
       "stream": "stdout",
       "text": [
        " 93\n",
        "hsa-let-7e"
       ]
      },
      {
       "output_type": "stream",
       "stream": "stdout",
       "text": [
        " 84\n",
        "hsa-let-7f-1"
       ]
      },
      {
       "output_type": "stream",
       "stream": "stdout",
       "text": [
        " 93\n",
        "hsa-let-7f-2"
       ]
      },
      {
       "output_type": "stream",
       "stream": "stdout",
       "text": [
        " 88\n",
        "hsa-let-7g"
       ]
      },
      {
       "output_type": "stream",
       "stream": "stdout",
       "text": [
        " 92\n",
        "hsa-let-7i"
       ]
      },
      {
       "output_type": "stream",
       "stream": "stdout",
       "text": [
        " 93\n",
        "hsa-mir-100"
       ]
      },
      {
       "output_type": "stream",
       "stream": "stdout",
       "text": [
        " 70\n",
        "hsa-mir-101-1"
       ]
      },
      {
       "output_type": "stream",
       "stream": "stdout",
       "text": [
        " 77\n",
        "hsa-mir-103a-1"
       ]
      },
      {
       "output_type": "stream",
       "stream": "stdout",
       "text": [
        " 80\n",
        "hsa-mir-103a-2"
       ]
      },
      {
       "output_type": "stream",
       "stream": "stdout",
       "text": [
        " 80\n",
        "hsa-mir-105-1"
       ]
      },
      {
       "output_type": "stream",
       "stream": "stdout",
       "text": [
        " 81\n",
        "hsa-mir-105-2"
       ]
      },
      {
       "output_type": "stream",
       "stream": "stdout",
       "text": [
        " 81\n",
        "hsa-mir-106b"
       ]
      },
      {
       "output_type": "stream",
       "stream": "stdout",
       "text": [
        " 84\n",
        "hsa-mir-10a"
       ]
      },
      {
       "output_type": "stream",
       "stream": "stdout",
       "text": [
        " 93\n",
        "hsa-mir-10b"
       ]
      },
      {
       "output_type": "stream",
       "stream": "stdout",
       "text": [
        " 98\n",
        "hsa-mir-1226"
       ]
      },
      {
       "output_type": "stream",
       "stream": "stdout",
       "text": [
        " 85\n",
        "hsa-mir-1248"
       ]
      },
      {
       "output_type": "stream",
       "stream": "stdout",
       "text": [
        " 101\n",
        "hsa-mir-1291"
       ]
      },
      {
       "output_type": "stream",
       "stream": "stdout",
       "text": [
        " 70\n",
        "hsa-mir-1307"
       ]
      },
      {
       "output_type": "stream",
       "stream": "stdout",
       "text": [
        " 112\n",
        "hsa-mir-148b"
       ]
      },
      {
       "output_type": "stream",
       "stream": "stdout",
       "text": [
        " 94\n",
        "hsa-mir-15a"
       ]
      },
      {
       "output_type": "stream",
       "stream": "stdout",
       "text": [
        " 81\n",
        "hsa-mir-15b"
       ]
      },
      {
       "output_type": "stream",
       "stream": "stdout",
       "text": [
        " 88\n",
        "hsa-mir-16-1"
       ]
      },
      {
       "output_type": "stream",
       "stream": "stdout",
       "text": [
        " 87\n",
        "hsa-mir-16-2"
       ]
      },
      {
       "output_type": "stream",
       "stream": "stdout",
       "text": [
        " 71\n",
        "hsa-mir-17"
       ]
      },
      {
       "output_type": "stream",
       "stream": "stdout",
       "text": [
        " 83\n",
        "hsa-mir-182"
       ]
      },
      {
       "output_type": "stream",
       "stream": "stdout",
       "text": [
        " 96\n",
        "hsa-mir-183"
       ]
      },
      {
       "output_type": "stream",
       "stream": "stdout",
       "text": [
        " 96\n",
        "hsa-mir-185"
       ]
      },
      {
       "output_type": "stream",
       "stream": "stdout",
       "text": [
        " 80\n",
        "hsa-mir-18a"
       ]
      },
      {
       "output_type": "stream",
       "stream": "stdout",
       "text": [
        " 80\n",
        "hsa-mir-191"
       ]
      },
      {
       "output_type": "stream",
       "stream": "stdout",
       "text": [
        " 89\n",
        "hsa-mir-196a-2"
       ]
      },
      {
       "output_type": "stream",
       "stream": "stdout",
       "text": [
        " 93\n",
        "hsa-mir-196b"
       ]
      },
      {
       "output_type": "stream",
       "stream": "stdout",
       "text": [
        " 81\n",
        "hsa-mir-20a"
       ]
      },
      {
       "output_type": "stream",
       "stream": "stdout",
       "text": [
        " 76\n",
        "hsa-mir-21"
       ]
      },
      {
       "output_type": "stream",
       "stream": "stdout",
       "text": [
        " 77\n",
        "hsa-mir-221"
       ]
      },
      {
       "output_type": "stream",
       "stream": "stdout",
       "text": [
        " 97\n",
        "hsa-mir-222"
       ]
      },
      {
       "output_type": "stream",
       "stream": "stdout",
       "text": [
        " 103\n",
        "hsa-mir-24-1"
       ]
      },
      {
       "output_type": "stream",
       "stream": "stdout",
       "text": [
        " 75\n",
        "hsa-mir-24-2"
       ]
      },
      {
       "output_type": "stream",
       "stream": "stdout",
       "text": [
        " 81\n",
        "hsa-mir-26a-1"
       ]
      },
      {
       "output_type": "stream",
       "stream": "stdout",
       "text": [
        " 80\n",
        "hsa-mir-26a-2"
       ]
      },
      {
       "output_type": "stream",
       "stream": "stdout",
       "text": [
        " 81\n",
        "hsa-mir-26b"
       ]
      },
      {
       "output_type": "stream",
       "stream": "stdout",
       "text": [
        " 77\n",
        "hsa-mir-27b"
       ]
      },
      {
       "output_type": "stream",
       "stream": "stdout",
       "text": [
        " 91\n",
        "hsa-mir-30a"
       ]
      },
      {
       "output_type": "stream",
       "stream": "stdout",
       "text": [
        " 78\n",
        "hsa-mir-30b"
       ]
      },
      {
       "output_type": "stream",
       "stream": "stdout",
       "text": [
        " 86\n",
        "hsa-mir-30c-1"
       ]
      },
      {
       "output_type": "stream",
       "stream": "stdout",
       "text": [
        " 87\n",
        "hsa-mir-30c-2"
       ]
      },
      {
       "output_type": "stream",
       "stream": "stdout",
       "text": [
        " 78\n",
        "hsa-mir-30d"
       ]
      },
      {
       "output_type": "stream",
       "stream": "stdout",
       "text": [
        " 77\n",
        "hsa-mir-31"
       ]
      },
      {
       "output_type": "stream",
       "stream": "stdout",
       "text": [
        " 76\n",
        "hsa-mir-320a"
       ]
      },
      {
       "output_type": "stream",
       "stream": "stdout",
       "text": [
        " 75\n",
        "hsa-mir-345"
       ]
      },
      {
       "output_type": "stream",
       "stream": "stdout",
       "text": [
        " 85\n",
        "hsa-mir-3607"
       ]
      },
      {
       "output_type": "stream",
       "stream": "stdout",
       "text": [
        " 80\n",
        "hsa-mir-423"
       ]
      },
      {
       "output_type": "stream",
       "stream": "stdout",
       "text": [
        " 85\n",
        "hsa-mir-449a"
       ]
      },
      {
       "output_type": "stream",
       "stream": "stdout",
       "text": [
        " 87\n",
        "hsa-mir-7-1"
       ]
      },
      {
       "output_type": "stream",
       "stream": "stdout",
       "text": [
        " 97\n",
        "hsa-mir-93"
       ]
      },
      {
       "output_type": "stream",
       "stream": "stdout",
       "text": [
        " 82\n",
        "hsa-mir-98"
       ]
      },
      {
       "output_type": "stream",
       "stream": "stdout",
       "text": [
        " 110\n",
        "done"
       ]
      },
      {
       "output_type": "stream",
       "stream": "stdout",
       "text": [
        "\n"
       ]
      }
     ],
     "prompt_number": 25
    },
    {
     "cell_type": "markdown",
     "metadata": {},
     "source": [
      "Plot a pseudochart for size markers legend"
     ]
    },
    {
     "cell_type": "code",
     "collapsed": false,
     "input": [
      "zerofreqarr = ctlfreqarr - ctlfreqarr\n",
      "zerofreqcenter = 100\n",
      "zerofreqarr[zerofreqcenter - 4, 0] = 0.01\n",
      "zerofreqarr[zerofreqcenter - 3, 0] = 0.05\n",
      "zerofreqarr[zerofreqcenter - 2, 0] = 0.10\n",
      "zerofreqarr[zerofreqcenter - 1, 0] = 0.20\n",
      "zerofreqarr[zerofreqcenter + 0, 0] = 0.50\n",
      "zerofreqarr[zerofreqcenter + 1, 0] = 0.75\n",
      "\n",
      "mostfreq = zerofreqcenter\n",
      "\n",
      "endpos_range = np.arange(mostfreq-15, mostfreq+4)\n",
      "modcnt_range = np.arange(5)\n",
      "\n",
      "sc_pos_x = np.array([ep for ep in endpos_range for mc in modcnt_range])\n",
      "sc_pos_y = np.array([mc for ep in endpos_range for mc in modcnt_range])\n",
      "sc_freq_cnt = np.array([zerofreqarr[ep, mc] for ep in endpos_range for mc in modcnt_range])\n",
      "sc_freq_kd = np.array([zerofreqarr[ep, mc] for ep in endpos_range for mc in modcnt_range])\n",
      "\n",
      "fig = plt.figure(figsize=(6, 3.3))\n",
      "\n",
      "ax = fig.add_subplot(2, 1, 1)\n",
      "\n",
      "plt.scatter(sc_pos_x, sc_pos_y, s=sc_freq_cnt*1000, lw=0, c='#20406d', alpha=0.9, edgecolor='none',\n",
      "            zorder=8)\n",
      "adjust_axis(ax, 'Control', showseq=False)\n",
      "\n",
      "ax = fig.add_subplot(2, 1, 2)\n",
      "\n",
      "plt.scatter(sc_pos_x, sc_pos_y, s=sc_freq_kd*1000, lw=0, c='#751111', alpha=0.9, edgecolor='none',\n",
      "            zorder=8)\n",
      "adjust_axis(ax, 'TUT2/4/7 KD', showseq=True)\n",
      "\n",
      "plt.annotate('Total reads - ctl:{:,.0f} kd:{:,.0f}'.format(ctlcnt[hairpin].sum(), kdcnt[hairpin].sum()),\n",
      "              (0.95, 0), ha='right', va='bottom', xycoords='figure fraction')\n",
      "\n",
      "plt.subplots_adjust(hspace=0.2)\n",
      "\n",
      "plt.savefig('../plots/modpos-freq-sizemarker.pdf')"
     ],
     "language": "python",
     "metadata": {},
     "outputs": [
      {
       "metadata": {},
       "output_type": "display_data",
       "png": "[encoded data removed]",
       "text": [
        "<matplotlib.figure.Figure at 0x7f20e25460f0>"
       ]
      }
     ],
     "prompt_number": 26
    },
    {
     "cell_type": "code",
     "collapsed": false,
     "input": [
      "ctl[ctl['hairpin'] == 'hsa-let-7a-3']"
     ],
     "language": "python",
     "metadata": {},
     "outputs": []
    },
    {
     "cell_type": "code",
     "collapsed": false,
     "input": [
      "ctl['seqtail'] = ctl['readSeq'].apply(lambda x: x[-15:])"
     ],
     "language": "python",
     "metadata": {},
     "outputs": []
    },
    {
     "cell_type": "code",
     "collapsed": false,
     "input": [
      "ctl[ctl['hairpin'] == 'hsa-let-7a-3']"
     ],
     "language": "python",
     "metadata": {},
     "outputs": []
    },
    {
     "cell_type": "code",
     "collapsed": false,
     "input": [],
     "language": "python",
     "metadata": {},
     "outputs": []
    }
   ],
   "metadata": {}
  }
 ]
}
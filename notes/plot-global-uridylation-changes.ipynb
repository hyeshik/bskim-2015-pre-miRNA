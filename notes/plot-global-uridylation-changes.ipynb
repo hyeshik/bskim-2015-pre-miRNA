{
 "metadata": {
  "name": "",
  "signature": "sha256:571970994eb3cb7d443c6e32e3507d97d3293367b7173b4a2b4dc16d0e31a014"
 },
 "nbformat": 3,
 "nbformat_minor": 0,
 "worksheets": [
  {
   "cells": [
    {
     "cell_type": "markdown",
     "metadata": {},
     "source": [
      "## Show global change of uridylation by knockdown of TUT2/4/7\n",
      "\n",
      "Hyeshik Chang  \n",
      "*Aug 8, 2014*"
     ]
    },
    {
     "cell_type": "code",
     "collapsed": false,
     "input": [
      "import pandas as pd"
     ],
     "language": "python",
     "metadata": {},
     "outputs": [],
     "prompt_number": 1
    },
    {
     "cell_type": "code",
     "collapsed": false,
     "input": [
      "ctl = pd.read_table('../stats/Control.mods.txt.gz', compression='gzip').fillna('')\n",
      "kd = pd.read_table('../stats/TUT247KD.mods.txt.gz', compression='gzip').fillna('')"
     ],
     "language": "python",
     "metadata": {},
     "outputs": [],
     "prompt_number": 2
    },
    {
     "cell_type": "markdown",
     "metadata": {},
     "source": [
      "Remove non-U tails"
     ]
    },
    {
     "cell_type": "code",
     "collapsed": false,
     "input": [
      "ctl = ctl[ctl['addedSeq'].apply(lambda x: x.strip('T') == '')]\n",
      "kd = kd[kd['addedSeq'].apply(lambda x: x.strip('T') == '')]"
     ],
     "language": "python",
     "metadata": {},
     "outputs": [],
     "prompt_number": 3
    },
    {
     "cell_type": "markdown",
     "metadata": {},
     "source": [
      "Calculate the length of U-tails"
     ]
    },
    {
     "cell_type": "code",
     "collapsed": false,
     "input": [
      "ctl['modlen'] = ctl['addedSeq'].apply(len)\n",
      "kd['modlen'] = kd['addedSeq'].apply(len)"
     ],
     "language": "python",
     "metadata": {},
     "outputs": [],
     "prompt_number": 4
    },
    {
     "cell_type": "code",
     "collapsed": false,
     "input": [
      "ctl.head()"
     ],
     "language": "python",
     "metadata": {},
     "outputs": [
      {
       "html": [
        "<div style=\"max-height:1000px;max-width:1500px;overflow:auto;\">\n",
        "<table border=\"1\" class=\"dataframe\">\n",
        "  <thead>\n",
        "    <tr style=\"text-align: right;\">\n",
        "      <th></th>\n",
        "      <th>hairpin</th>\n",
        "      <th>seqNo</th>\n",
        "      <th>readCount</th>\n",
        "      <th>readSeq</th>\n",
        "      <th>refEndPos</th>\n",
        "      <th>addedSeq</th>\n",
        "      <th>modlen</th>\n",
        "    </tr>\n",
        "  </thead>\n",
        "  <tbody>\n",
        "    <tr>\n",
        "      <th>0</th>\n",
        "      <td>   hsa-mir-21</td>\n",
        "      <td> 1</td>\n",
        "      <td> 514918</td>\n",
        "      <td>     ATGTTGACTGTTGAATCTCATGGCAACACCAGTCGATGGGCTGTC</td>\n",
        "      <td> 77</td>\n",
        "      <td>  </td>\n",
        "      <td> 0</td>\n",
        "    </tr>\n",
        "    <tr>\n",
        "      <th>1</th>\n",
        "      <td>   hsa-mir-21</td>\n",
        "      <td> 2</td>\n",
        "      <td> 252531</td>\n",
        "      <td>    ATGTTGACTGTTGAATCTCATGGCAACACCAGTCGATGGGCTGTCT</td>\n",
        "      <td> 78</td>\n",
        "      <td>  </td>\n",
        "      <td> 0</td>\n",
        "    </tr>\n",
        "    <tr>\n",
        "      <th>2</th>\n",
        "      <td>  hsa-mir-423</td>\n",
        "      <td> 3</td>\n",
        "      <td> 211999</td>\n",
        "      <td>      GAGACTTTTCTATTTTCCAAAAGCTCGGTCTGAGGCCCCTCAGT</td>\n",
        "      <td> 85</td>\n",
        "      <td>  </td>\n",
        "      <td> 0</td>\n",
        "    </tr>\n",
        "    <tr>\n",
        "      <th>3</th>\n",
        "      <td> hsa-let-7f-1</td>\n",
        "      <td> 4</td>\n",
        "      <td> 132804</td>\n",
        "      <td> TATAGTTGTGGGGTAGTGATTTTACCCTGTTCAGGAGATAACTATA...</td>\n",
        "      <td> 93</td>\n",
        "      <td>  </td>\n",
        "      <td> 0</td>\n",
        "    </tr>\n",
        "    <tr>\n",
        "      <th>4</th>\n",
        "      <td> hsa-let-7f-1</td>\n",
        "      <td> 5</td>\n",
        "      <td> 132175</td>\n",
        "      <td> TATAGTTGTGGGGTAGTGATTTTACCCTGTTCAGGAGATAACTATA...</td>\n",
        "      <td> 93</td>\n",
        "      <td> T</td>\n",
        "      <td> 1</td>\n",
        "    </tr>\n",
        "  </tbody>\n",
        "</table>\n",
        "</div>"
       ],
       "metadata": {},
       "output_type": "pyout",
       "prompt_number": 5,
       "text": [
        "        hairpin  seqNo  readCount  \\\n",
        "0    hsa-mir-21      1     514918   \n",
        "1    hsa-mir-21      2     252531   \n",
        "2   hsa-mir-423      3     211999   \n",
        "3  hsa-let-7f-1      4     132804   \n",
        "4  hsa-let-7f-1      5     132175   \n",
        "\n",
        "                                             readSeq  refEndPos addedSeq  \\\n",
        "0      ATGTTGACTGTTGAATCTCATGGCAACACCAGTCGATGGGCTGTC         77            \n",
        "1     ATGTTGACTGTTGAATCTCATGGCAACACCAGTCGATGGGCTGTCT         78            \n",
        "2       GAGACTTTTCTATTTTCCAAAAGCTCGGTCTGAGGCCCCTCAGT         85            \n",
        "3  TATAGTTGTGGGGTAGTGATTTTACCCTGTTCAGGAGATAACTATA...         93            \n",
        "4  TATAGTTGTGGGGTAGTGATTTTACCCTGTTCAGGAGATAACTATA...         93        T   \n",
        "\n",
        "   modlen  \n",
        "0       0  \n",
        "1       0  \n",
        "2       0  \n",
        "3       0  \n",
        "4       1  "
       ]
      }
     ],
     "prompt_number": 5
    },
    {
     "cell_type": "code",
     "collapsed": false,
     "input": [
      "modlen_ctl = ctl.groupby('modlen').agg({'readCount': np.sum})\n",
      "modlen_kd = kd.groupby('modlen').agg({'readCount': np.sum})"
     ],
     "language": "python",
     "metadata": {},
     "outputs": [],
     "prompt_number": 6
    },
    {
     "cell_type": "code",
     "collapsed": false,
     "input": [
      "modlen_ctl.head()"
     ],
     "language": "python",
     "metadata": {},
     "outputs": [
      {
       "html": [
        "<div style=\"max-height:1000px;max-width:1500px;overflow:auto;\">\n",
        "<table border=\"1\" class=\"dataframe\">\n",
        "  <thead>\n",
        "    <tr style=\"text-align: right;\">\n",
        "      <th></th>\n",
        "      <th>readCount</th>\n",
        "    </tr>\n",
        "    <tr>\n",
        "      <th>modlen</th>\n",
        "      <th></th>\n",
        "    </tr>\n",
        "  </thead>\n",
        "  <tbody>\n",
        "    <tr>\n",
        "      <th>0</th>\n",
        "      <td> 3108565</td>\n",
        "    </tr>\n",
        "    <tr>\n",
        "      <th>1</th>\n",
        "      <td>  811765</td>\n",
        "    </tr>\n",
        "    <tr>\n",
        "      <th>2</th>\n",
        "      <td>   39028</td>\n",
        "    </tr>\n",
        "    <tr>\n",
        "      <th>3</th>\n",
        "      <td>    3925</td>\n",
        "    </tr>\n",
        "    <tr>\n",
        "      <th>4</th>\n",
        "      <td>    2459</td>\n",
        "    </tr>\n",
        "  </tbody>\n",
        "</table>\n",
        "</div>"
       ],
       "metadata": {},
       "output_type": "pyout",
       "prompt_number": 7,
       "text": [
        "        readCount\n",
        "modlen           \n",
        "0         3108565\n",
        "1          811765\n",
        "2           39028\n",
        "3            3925\n",
        "4            2459"
       ]
      }
     ],
     "prompt_number": 7
    },
    {
     "cell_type": "code",
     "collapsed": false,
     "input": [
      "cntmerged = pd.merge(modlen_ctl, modlen_kd, left_index=True, right_index=True, how='outer',\n",
      "                     suffixes=('_ctl', '_kd')).fillna(0)"
     ],
     "language": "python",
     "metadata": {},
     "outputs": [],
     "prompt_number": 13
    },
    {
     "cell_type": "code",
     "collapsed": false,
     "input": [
      "cntmerged.head()"
     ],
     "language": "python",
     "metadata": {},
     "outputs": [
      {
       "html": [
        "<div style=\"max-height:1000px;max-width:1500px;overflow:auto;\">\n",
        "<table border=\"1\" class=\"dataframe\">\n",
        "  <thead>\n",
        "    <tr style=\"text-align: right;\">\n",
        "      <th></th>\n",
        "      <th>readCount_ctl</th>\n",
        "      <th>readCount_kd</th>\n",
        "    </tr>\n",
        "    <tr>\n",
        "      <th>modlen</th>\n",
        "      <th></th>\n",
        "      <th></th>\n",
        "    </tr>\n",
        "  </thead>\n",
        "  <tbody>\n",
        "    <tr>\n",
        "      <th>0</th>\n",
        "      <td> 3108565</td>\n",
        "      <td> 4777800</td>\n",
        "    </tr>\n",
        "    <tr>\n",
        "      <th>1</th>\n",
        "      <td>  811765</td>\n",
        "      <td>  487242</td>\n",
        "    </tr>\n",
        "    <tr>\n",
        "      <th>2</th>\n",
        "      <td>   39028</td>\n",
        "      <td>   12206</td>\n",
        "    </tr>\n",
        "    <tr>\n",
        "      <th>3</th>\n",
        "      <td>    3925</td>\n",
        "      <td>    3014</td>\n",
        "    </tr>\n",
        "    <tr>\n",
        "      <th>4</th>\n",
        "      <td>    2459</td>\n",
        "      <td>    1937</td>\n",
        "    </tr>\n",
        "  </tbody>\n",
        "</table>\n",
        "</div>"
       ],
       "metadata": {},
       "output_type": "pyout",
       "prompt_number": 14,
       "text": [
        "        readCount_ctl  readCount_kd\n",
        "modlen                             \n",
        "0             3108565       4777800\n",
        "1              811765        487242\n",
        "2               39028         12206\n",
        "3                3925          3014\n",
        "4                2459          1937"
       ]
      }
     ],
     "prompt_number": 14
    },
    {
     "cell_type": "code",
     "collapsed": false,
     "input": [
      "cntmerged['ctl uridrate'] = cntmerged['readCount_ctl'] / cntmerged['readCount_ctl'].sum()\n",
      "cntmerged['kd uridrate'] = cntmerged['readCount_kd'] / cntmerged['readCount_kd'].sum()"
     ],
     "language": "python",
     "metadata": {},
     "outputs": [],
     "prompt_number": 16
    },
    {
     "cell_type": "code",
     "collapsed": false,
     "input": [
      "cntmerged.head()"
     ],
     "language": "python",
     "metadata": {},
     "outputs": [
      {
       "html": [
        "<div style=\"max-height:1000px;max-width:1500px;overflow:auto;\">\n",
        "<table border=\"1\" class=\"dataframe\">\n",
        "  <thead>\n",
        "    <tr style=\"text-align: right;\">\n",
        "      <th></th>\n",
        "      <th>readCount_ctl</th>\n",
        "      <th>readCount_kd</th>\n",
        "      <th>ctl uridrate</th>\n",
        "      <th>kd uridrate</th>\n",
        "    </tr>\n",
        "    <tr>\n",
        "      <th>modlen</th>\n",
        "      <th></th>\n",
        "      <th></th>\n",
        "      <th></th>\n",
        "      <th></th>\n",
        "    </tr>\n",
        "  </thead>\n",
        "  <tbody>\n",
        "    <tr>\n",
        "      <th>0</th>\n",
        "      <td> 3108565</td>\n",
        "      <td> 4777800</td>\n",
        "      <td> 0.783002</td>\n",
        "      <td> 0.904200</td>\n",
        "    </tr>\n",
        "    <tr>\n",
        "      <th>1</th>\n",
        "      <td>  811765</td>\n",
        "      <td>  487242</td>\n",
        "      <td> 0.204472</td>\n",
        "      <td> 0.092211</td>\n",
        "    </tr>\n",
        "    <tr>\n",
        "      <th>2</th>\n",
        "      <td>   39028</td>\n",
        "      <td>   12206</td>\n",
        "      <td> 0.009831</td>\n",
        "      <td> 0.002310</td>\n",
        "    </tr>\n",
        "    <tr>\n",
        "      <th>3</th>\n",
        "      <td>    3925</td>\n",
        "      <td>    3014</td>\n",
        "      <td> 0.000989</td>\n",
        "      <td> 0.000570</td>\n",
        "    </tr>\n",
        "    <tr>\n",
        "      <th>4</th>\n",
        "      <td>    2459</td>\n",
        "      <td>    1937</td>\n",
        "      <td> 0.000619</td>\n",
        "      <td> 0.000367</td>\n",
        "    </tr>\n",
        "  </tbody>\n",
        "</table>\n",
        "</div>"
       ],
       "metadata": {},
       "output_type": "pyout",
       "prompt_number": 17,
       "text": [
        "        readCount_ctl  readCount_kd  ctl uridrate  kd uridrate\n",
        "modlen                                                        \n",
        "0             3108565       4777800      0.783002     0.904200\n",
        "1              811765        487242      0.204472     0.092211\n",
        "2               39028         12206      0.009831     0.002310\n",
        "3                3925          3014      0.000989     0.000570\n",
        "4                2459          1937      0.000619     0.000367"
       ]
      }
     ],
     "prompt_number": 17
    },
    {
     "cell_type": "code",
     "collapsed": false,
     "input": [
      "MAXURID = 10\n",
      "\n",
      "uridcnts = np.arange(MAXURID+1)\n",
      "plt.plot(uridcnts, np.log10(np.cumsum(cntmerged['ctl uridrate'].ix[uridcnts][::-1])[::-1]))\n",
      "plt.plot(uridcnts, np.log10(np.cumsum(cntmerged['kd uridrate'].ix[uridcnts][::-1])[::-1]))"
     ],
     "language": "python",
     "metadata": {},
     "outputs": [
      {
       "metadata": {},
       "output_type": "pyout",
       "prompt_number": 29,
       "text": [
        "[<matplotlib.lines.Line2D at 0x7f19032640b8>]"
       ]
      },
      {
       "metadata": {},
       "output_type": "display_data",
       "png": "[encoded data removed]",
       "text": [
        "<matplotlib.figure.Figure at 0x7f19039d6e80>"
       ]
      }
     ],
     "prompt_number": 29
    },
    {
     "cell_type": "code",
     "collapsed": false,
     "input": [
      "MAXURID = 10\n",
      "BARWIDTH = 0.4\n",
      "\n",
      "uridcnts = np.arange(MAXURID+1)\n",
      "plt.bar(uridcnts-BARWIDTH, cntmerged['ctl uridrate'].ix[uridcnts], width=BARWIDTH)\n",
      "plt.bar(uridcnts, cntmerged['kd uridrate'].ix[uridcnts], width=BARWIDTH)"
     ],
     "language": "python",
     "metadata": {},
     "outputs": [
      {
       "metadata": {},
       "output_type": "pyout",
       "prompt_number": 31,
       "text": [
        "<Container object of 11 artists>"
       ]
      },
      {
       "metadata": {},
       "output_type": "display_data",
       "png": "[encoded data removed]",
       "text": [
        "<matplotlib.figure.Figure at 0x7f19039d9550>"
       ]
      }
     ],
     "prompt_number": 31
    },
    {
     "cell_type": "code",
     "collapsed": false,
     "input": [
      "MAXURID = 10\n",
      "BARWIDTH = 0.4\n",
      "\n",
      "uridcnts = np.arange(MAXURID+1)\n",
      "plt.bar(uridcnts-BARWIDTH, cntmerged['ctl uridrate'].ix[uridcnts], width=BARWIDTH)\n",
      "plt.bar(uridcnts, cntmerged['kd uridrate'].ix[uridcnts], width=BARWIDTH)\n",
      "plt.ylim(0, 0.01)\n",
      "plt.xticks(uridcnts)"
     ],
     "language": "python",
     "metadata": {},
     "outputs": [
      {
       "metadata": {},
       "output_type": "pyout",
       "prompt_number": 34,
       "text": [
        "([<matplotlib.axis.XTick at 0x7f19030af940>,\n",
        "  <matplotlib.axis.XTick at 0x7f1903127978>,\n",
        "  <matplotlib.axis.XTick at 0x7f19030cca90>,\n",
        "  <matplotlib.axis.XTick at 0x7f1903078cf8>,\n",
        "  <matplotlib.axis.XTick at 0x7f1903078fd0>,\n",
        "  <matplotlib.axis.XTick at 0x7f1903075908>,\n",
        "  <matplotlib.axis.XTick at 0x7f19030882b0>,\n",
        "  <matplotlib.axis.XTick at 0x7f19030d70f0>,\n",
        "  <matplotlib.axis.XTick at 0x7f19030d7b00>,\n",
        "  <matplotlib.axis.XTick at 0x7f19030e2550>,\n",
        "  <matplotlib.axis.XTick at 0x7f19030e2f60>],\n",
        " <a list of 11 Text xticklabel objects>)"
       ]
      },
      {
       "metadata": {},
       "output_type": "display_data",
       "png": "[encoded data removed]",
       "text": [
        "<matplotlib.figure.Figure at 0x7f1903102828>"
       ]
      }
     ],
     "prompt_number": 34
    },
    {
     "cell_type": "code",
     "collapsed": false,
     "input": [],
     "language": "python",
     "metadata": {},
     "outputs": []
    }
   ],
   "metadata": {}
  }
 ]
}
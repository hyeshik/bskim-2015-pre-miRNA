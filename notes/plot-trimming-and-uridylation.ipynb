{
 "metadata": {
  "name": "",
  "signature": "sha256:99eb9be4ffd55bc7e843452c525131ffa1b3de266f141be889be099997d57b33"
 },
 "nbformat": 3,
 "nbformat_minor": 0,
 "worksheets": [
  {
   "cells": [
    {
     "cell_type": "markdown",
     "metadata": {},
     "source": [
      "## Trimming and uridylation?\n",
      "\n",
      "Hyeshik Chang  \n",
      "*Aug 10, 2014*"
     ]
    },
    {
     "cell_type": "code",
     "collapsed": false,
     "input": [
      "PRIMED = set(\"\"\"hsa-let-7a-1 hsa-let-7a-2 hsa-let-7a-3 hsa-let-7b hsa-let-7c hsa-let-7d hsa-let-7e has-let-7e hsa-let-7f-1\n",
      "hsa-let-7f-2 hsa-let-7g hsa-let-7i hsa-miR-98 hsa-miR-100 hsa-miR-103a-1 hsa-mir-103a-2 hsa-miR-105-1 hsa-miR-105-2\n",
      "hsa-miR-106b hsa-miR-148b hsa-miR-151a hsa-miR-182 hsa-mir-185 hsa-miR-16-1 hsa-miR-16-2 hsa-miR-191 hsa-miR-20a\n",
      "hsa-miR-21 hsa-miR-221 hsa-miR-222 hsa-miR-24-1 hsa-miR-24-2 hsa-miR-26a-1 hsa-miR-26a-2 hsa-miR-27b hsa-miR-30a\n",
      "hsa-miR-30c-1 hsa-miR-30d hsa-miR-320a hsa-miR-378a hsa-miR-7-1 hsa-miR-7-2 hsa-miR-7-3 hsa-miR-93 hsa-miR-31\n",
      "hsa-miR-101-1 hsa-miR-345 hsa-miR-9-2 hsa-miR-18a hsa-miR-30b hsa-miR-10b hsa-miR-15a hsa-miR-423 hsa-miR-183\n",
      "hsa-miR-196a-2 hsa-miR-1226 hsa-miR-1248 hsa-miR-1291 hsa-miR-1307 hsa-miR-148b hsa-miR-449b\"\"\".lower().split())"
     ],
     "language": "python",
     "metadata": {},
     "outputs": [],
     "prompt_number": 405
    },
    {
     "cell_type": "code",
     "collapsed": false,
     "input": [
      "INTACT_REGION = (0, 2)\n",
      "TRIMMED_REGION = (-15, -9)"
     ],
     "language": "python",
     "metadata": {},
     "outputs": [],
     "prompt_number": 406
    },
    {
     "cell_type": "code",
     "collapsed": false,
     "input": [
      "import pandas as pd"
     ],
     "language": "python",
     "metadata": {},
     "outputs": [],
     "prompt_number": 407
    },
    {
     "cell_type": "code",
     "collapsed": false,
     "input": [
      "ctl = pd.read_table('../stats/Control.mods.txt.gz', compression='gzip').fillna('')\n",
      "kd = pd.read_table('../stats/TUT247KD.mods.txt.gz', compression='gzip').fillna('')"
     ],
     "language": "python",
     "metadata": {},
     "outputs": [],
     "prompt_number": 408
    },
    {
     "cell_type": "code",
     "collapsed": false,
     "input": [
      "ctl['RPM'] = ctl['readCount'] / ctl['readCount'].sum() * 1000000\n",
      "kd['RPM'] = kd['readCount'] / kd['readCount'].sum() * 1000000"
     ],
     "language": "python",
     "metadata": {},
     "outputs": [],
     "prompt_number": 409
    },
    {
     "cell_type": "code",
     "collapsed": false,
     "input": [
      "ctl.head()"
     ],
     "language": "python",
     "metadata": {},
     "outputs": [
      {
       "html": [
        "<div style=\"max-height:1000px;max-width:1500px;overflow:auto;\">\n",
        "<table border=\"1\" class=\"dataframe\">\n",
        "  <thead>\n",
        "    <tr style=\"text-align: right;\">\n",
        "      <th></th>\n",
        "      <th>hairpin</th>\n",
        "      <th>seqNo</th>\n",
        "      <th>readCount</th>\n",
        "      <th>readSeq</th>\n",
        "      <th>refEndPos</th>\n",
        "      <th>addedSeq</th>\n",
        "      <th>RPM</th>\n",
        "    </tr>\n",
        "  </thead>\n",
        "  <tbody>\n",
        "    <tr>\n",
        "      <th>0</th>\n",
        "      <td>   hsa-mir-21</td>\n",
        "      <td> 1</td>\n",
        "      <td> 514918</td>\n",
        "      <td>     ATGTTGACTGTTGAATCTCATGGCAACACCAGTCGATGGGCTGTC</td>\n",
        "      <td> 77</td>\n",
        "      <td>  </td>\n",
        "      <td> 126567.038858</td>\n",
        "    </tr>\n",
        "    <tr>\n",
        "      <th>1</th>\n",
        "      <td>   hsa-mir-21</td>\n",
        "      <td> 2</td>\n",
        "      <td> 252531</td>\n",
        "      <td>    ATGTTGACTGTTGAATCTCATGGCAACACCAGTCGATGGGCTGTCT</td>\n",
        "      <td> 78</td>\n",
        "      <td>  </td>\n",
        "      <td>  62072.215168</td>\n",
        "    </tr>\n",
        "    <tr>\n",
        "      <th>2</th>\n",
        "      <td>  hsa-mir-423</td>\n",
        "      <td> 3</td>\n",
        "      <td> 211999</td>\n",
        "      <td>      GAGACTTTTCTATTTTCCAAAAGCTCGGTCTGAGGCCCCTCAGT</td>\n",
        "      <td> 85</td>\n",
        "      <td>  </td>\n",
        "      <td>  52109.434261</td>\n",
        "    </tr>\n",
        "    <tr>\n",
        "      <th>3</th>\n",
        "      <td> hsa-let-7f-1</td>\n",
        "      <td> 4</td>\n",
        "      <td> 132804</td>\n",
        "      <td> TATAGTTGTGGGGTAGTGATTTTACCCTGTTCAGGAGATAACTATA...</td>\n",
        "      <td> 93</td>\n",
        "      <td>  </td>\n",
        "      <td>  32643.273353</td>\n",
        "    </tr>\n",
        "    <tr>\n",
        "      <th>4</th>\n",
        "      <td> hsa-let-7f-1</td>\n",
        "      <td> 5</td>\n",
        "      <td> 132175</td>\n",
        "      <td> TATAGTTGTGGGGTAGTGATTTTACCCTGTTCAGGAGATAACTATA...</td>\n",
        "      <td> 93</td>\n",
        "      <td> T</td>\n",
        "      <td>  32488.664916</td>\n",
        "    </tr>\n",
        "  </tbody>\n",
        "</table>\n",
        "</div>"
       ],
       "metadata": {},
       "output_type": "pyout",
       "prompt_number": 410,
       "text": [
        "        hairpin  seqNo  readCount  \\\n",
        "0    hsa-mir-21      1     514918   \n",
        "1    hsa-mir-21      2     252531   \n",
        "2   hsa-mir-423      3     211999   \n",
        "3  hsa-let-7f-1      4     132804   \n",
        "4  hsa-let-7f-1      5     132175   \n",
        "\n",
        "                                             readSeq  refEndPos addedSeq  \\\n",
        "0      ATGTTGACTGTTGAATCTCATGGCAACACCAGTCGATGGGCTGTC         77            \n",
        "1     ATGTTGACTGTTGAATCTCATGGCAACACCAGTCGATGGGCTGTCT         78            \n",
        "2       GAGACTTTTCTATTTTCCAAAAGCTCGGTCTGAGGCCCCTCAGT         85            \n",
        "3  TATAGTTGTGGGGTAGTGATTTTACCCTGTTCAGGAGATAACTATA...         93            \n",
        "4  TATAGTTGTGGGGTAGTGATTTTACCCTGTTCAGGAGATAACTATA...         93        T   \n",
        "\n",
        "             RPM  \n",
        "0  126567.038858  \n",
        "1   62072.215168  \n",
        "2   52109.434261  \n",
        "3   32643.273353  \n",
        "4   32488.664916  "
       ]
      }
     ],
     "prompt_number": 410
    },
    {
     "cell_type": "markdown",
     "metadata": {},
     "source": [
      "Remove non-U tails"
     ]
    },
    {
     "cell_type": "code",
     "collapsed": false,
     "input": [
      "ctl = ctl[ctl['addedSeq'].apply(lambda x: x.strip('T') == '')]\n",
      "kd = kd[kd['addedSeq'].apply(lambda x: x.strip('T') == '')]"
     ],
     "language": "python",
     "metadata": {},
     "outputs": [],
     "prompt_number": 411
    },
    {
     "cell_type": "markdown",
     "metadata": {},
     "source": [
      "Calculate the length of U-tails"
     ]
    },
    {
     "cell_type": "code",
     "collapsed": false,
     "input": [
      "ctl['modlen'] = ctl['addedSeq'].apply(len)\n",
      "kd['modlen'] = kd['addedSeq'].apply(len)"
     ],
     "language": "python",
     "metadata": {},
     "outputs": [],
     "prompt_number": 412
    },
    {
     "cell_type": "markdown",
     "metadata": {},
     "source": [
      "Convert the read alignments to a 2D array that holds read counts per 3' end position and modification length."
     ]
    },
    {
     "cell_type": "code",
     "collapsed": false,
     "input": [
      "MAXIMUM_END_POSITION = 200\n",
      "MAXIMUM_MODIFICATION = 20\n",
      "\n",
      "def build_modcntarray(tbl):\n",
      "    cntarrays = {}\n",
      "\n",
      "    for hairpin, rows in tbl.groupby('hairpin'):\n",
      "        modcnts = rows.groupby(('refEndPos', 'modlen')).agg({'RPM': np.sum}).reset_index()\n",
      "\n",
      "        cnts_array = np.zeros([MAXIMUM_END_POSITION + 1, MAXIMUM_MODIFICATION + 1], np.float64)\n",
      "        for rowi, row in modcnts.iterrows():\n",
      "            cnts_array[row['refEndPos'], min(row['modlen'], MAXIMUM_MODIFICATION)] += row['RPM']\n",
      "\n",
      "        cntarrays[hairpin] = cnts_array\n",
      "\n",
      "    return cntarrays\n",
      "\n",
      "ctlcnt = build_modcntarray(ctl)\n",
      "kdcnt = build_modcntarray(kd)"
     ],
     "language": "python",
     "metadata": {},
     "outputs": [],
     "prompt_number": 413
    },
    {
     "cell_type": "markdown",
     "metadata": {},
     "source": [
      "Select the most frequent 3' ends with no untemplated nucleotide additions as reference positions based on control."
     ]
    },
    {
     "cell_type": "code",
     "collapsed": false,
     "input": [
      "refarr = ctlcnt\n",
      "\n",
      "mostfreq_pos = {}\n",
      "for hairpin, cntarr in refarr.items():\n",
      "    mostfreq_pos[hairpin] = cntarr.sum(axis=1).argmax()"
     ],
     "language": "python",
     "metadata": {},
     "outputs": [],
     "prompt_number": 414
    },
    {
     "cell_type": "markdown",
     "metadata": {},
     "source": [
      "A test session for data processing"
     ]
    },
    {
     "cell_type": "code",
     "collapsed": false,
     "input": [
      "hairpin = 'hsa-let-7a-1'\n",
      "\n",
      "mostfreq = mostfreq_pos[hairpin]\n",
      "ctlarr_hp = ctlcnt[hairpin]\n",
      "kdarr_hp = kdcnt[hairpin]\n",
      "\n",
      "intact_interval = slice(mostfreq+INTACT_REGION[0], mostfreq+INTACT_REGION[1])\n",
      "trimmed_interval = slice(mostfreq+TRIMMED_REGION[0], mostfreq+TRIMMED_REGION[1])"
     ],
     "language": "python",
     "metadata": {},
     "outputs": [],
     "prompt_number": 415
    },
    {
     "cell_type": "code",
     "collapsed": false,
     "input": [
      "MAXIMUM_URID = 3\n",
      "PSEUDOCNT = 0.1\n",
      "\n",
      "intact_ctl = ctlarr_hp[intact_interval].sum(axis=0)\n",
      "trimmed_ctl = ctlarr_hp[trimmed_interval].sum(axis=0)\n",
      "intact_kd = kdarr_hp[intact_interval].sum(axis=0)\n",
      "trimmed_kd = kdarr_hp[trimmed_interval].sum(axis=0)\n",
      "\n",
      "intact_U0_chg = np.log2((intact_kd[0] + PSEUDOCNT) / (intact_ctl[0] + PSEUDOCNT))\n",
      "intact_U1p_chg = np.log2((intact_kd[1:].sum() + PSEUDOCNT) / (intact_ctl[1:].sum() + PSEUDOCNT))\n",
      "trimmed_U0_chg = np.log2((trimmed_kd[0] + PSEUDOCNT) / (trimmed_ctl[0] + PSEUDOCNT))\n",
      "trimmed_U1p_chg = np.log2((trimmed_kd[1:].sum() + PSEUDOCNT) / (trimmed_ctl[1:].sum() + PSEUDOCNT))\n",
      "\n",
      "intact_any_chg = np.log2((intact_kd.sum() + PSEUDOCNT) / (intact_ctl.sum() + PSEUDOCNT))\n",
      "trimmed_any_chg = np.log2((trimmed_kd.sum() + PSEUDOCNT) / (trimmed_ctl.sum() + PSEUDOCNT))"
     ],
     "language": "python",
     "metadata": {},
     "outputs": [],
     "prompt_number": 416
    },
    {
     "cell_type": "code",
     "collapsed": false,
     "input": [
      "intact_U0_chg, intact_U1p_chg, trimmed_U0_chg, trimmed_U1p_chg"
     ],
     "language": "python",
     "metadata": {},
     "outputs": [
      {
       "metadata": {},
       "output_type": "pyout",
       "prompt_number": 417,
       "text": [
        "(-0.15831332401563364,\n",
        " -2.4730297889669828,\n",
        " 2.8791938400205659,\n",
        " 1.6556417190080082)"
       ]
      }
     ],
     "prompt_number": 417
    },
    {
     "cell_type": "code",
     "collapsed": false,
     "input": [
      "intact_any_chg, trimmed_any_chg"
     ],
     "language": "python",
     "metadata": {},
     "outputs": [
      {
       "metadata": {},
       "output_type": "pyout",
       "prompt_number": 418,
       "text": [
        "(-1.6749880046406234, 2.7672868505267121)"
       ]
      }
     ],
     "prompt_number": 418
    },
    {
     "cell_type": "markdown",
     "metadata": {},
     "source": [
      "Calculate for all available hairpins"
     ]
    },
    {
     "cell_type": "code",
     "collapsed": false,
     "input": [
      "MAXIMUM_URID = 3\n",
      "PSEUDOCNT = 0.1\n",
      "\n",
      "hairpinidx = sorted(set(ctlcnt) & set(kdcnt))\n",
      "results = []\n",
      "\n",
      "for hairpin in hairpinidx:\n",
      "    mostfreq = mostfreq_pos[hairpin]\n",
      "    ctlarr_hp = ctlcnt[hairpin]\n",
      "    kdarr_hp = kdcnt[hairpin]\n",
      "\n",
      "    intact_interval = slice(mostfreq+INTACT_REGION[0], mostfreq+INTACT_REGION[1])\n",
      "    trimmed_interval = slice(mostfreq+TRIMMED_REGION[0], mostfreq+TRIMMED_REGION[1])\n",
      "\n",
      "    intact_ctl = ctlarr_hp[intact_interval].sum(axis=0)\n",
      "    trimmed_ctl = ctlarr_hp[trimmed_interval].sum(axis=0)\n",
      "    intact_kd = kdarr_hp[intact_interval].sum(axis=0)\n",
      "    trimmed_kd = kdarr_hp[trimmed_interval].sum(axis=0)\n",
      "\n",
      "    intact_urate_ctl = (ctlarr_hp[intact_interval, 1:].sum() + PSEUDOCNT) / (ctlarr_hp[intact_interval].sum() + PSEUDOCNT)\n",
      "    trimmed_urate_ctl = (ctlarr_hp[trimmed_interval, 1:].sum() + PSEUDOCNT) / (ctlarr_hp[trimmed_interval].sum() + PSEUDOCNT)\n",
      "    intact_urate_kd = (kdarr_hp[intact_interval, 1:].sum() + PSEUDOCNT) / (kdarr_hp[intact_interval].sum() + PSEUDOCNT)\n",
      "    trimmed_urate_kd = (kdarr_hp[trimmed_interval, 1:].sum() + PSEUDOCNT) / (kdarr_hp[trimmed_interval].sum() + PSEUDOCNT)\n",
      "\n",
      "    intact_U0_chg = np.log2((intact_kd[0] + PSEUDOCNT) / (intact_ctl[0] + PSEUDOCNT))\n",
      "    intact_U1p_chg = np.log2((intact_kd[1:].sum() + PSEUDOCNT) / (intact_ctl[1:].sum() + PSEUDOCNT))\n",
      "    trimmed_U0_chg = np.log2((trimmed_kd[0] + PSEUDOCNT) / (trimmed_ctl[0] + PSEUDOCNT))\n",
      "    trimmed_U1p_chg = np.log2((trimmed_kd[1:].sum() + PSEUDOCNT) / (trimmed_ctl[1:].sum() + PSEUDOCNT))\n",
      "\n",
      "    intact_any_chg = np.log2((intact_kd.sum() + PSEUDOCNT) / (intact_ctl.sum() + PSEUDOCNT))\n",
      "    trimmed_any_chg = np.log2((trimmed_kd.sum() + PSEUDOCNT) / (trimmed_ctl.sum() + PSEUDOCNT))\n",
      "\n",
      "    results.append([\n",
      "        mostfreq,\n",
      "        intact_ctl.sum(), trimmed_ctl.sum(), intact_kd.sum(), trimmed_kd.sum(),\n",
      "        intact_urate_ctl, trimmed_urate_ctl,\n",
      "        intact_urate_kd, trimmed_urate_kd,\n",
      "        intact_U0_chg, intact_U1p_chg, trimmed_U0_chg, trimmed_U1p_chg,\n",
      "        intact_any_chg, trimmed_any_chg\n",
      "    ])\n",
      "\n",
      "modchange = pd.DataFrame(results, columns=(\n",
      "    'mostfreq', 'intact readcount ctl', 'trimmed readcount ctl',\n",
      "    'intact readcount kd', 'trimmed readcount kd',\n",
      "    'intact urate ctl', 'trimmed urate ctl', 'intact urate kd', 'trimmed urate kd',\n",
      "    'intact U0 chg', 'intact U1+ chg', 'trimmed U0 chg', 'trimmed U1+ chg',\n",
      "    'intact any chg', 'trimmed any chg'\n",
      "), index=hairpinidx)"
     ],
     "language": "python",
     "metadata": {},
     "outputs": [],
     "prompt_number": 419
    },
    {
     "cell_type": "code",
     "collapsed": false,
     "input": [
      "modchange.head()"
     ],
     "language": "python",
     "metadata": {},
     "outputs": [
      {
       "html": [
        "<div style=\"max-height:1000px;max-width:1500px;overflow:auto;\">\n",
        "<table border=\"1\" class=\"dataframe\">\n",
        "  <thead>\n",
        "    <tr style=\"text-align: right;\">\n",
        "      <th></th>\n",
        "      <th>mostfreq</th>\n",
        "      <th>intact readcount ctl</th>\n",
        "      <th>trimmed readcount ctl</th>\n",
        "      <th>intact readcount kd</th>\n",
        "      <th>trimmed readcount kd</th>\n",
        "      <th>intact urate ctl</th>\n",
        "      <th>trimmed urate ctl</th>\n",
        "      <th>intact urate kd</th>\n",
        "      <th>trimmed urate kd</th>\n",
        "      <th>intact U0 chg</th>\n",
        "      <th>intact U1+ chg</th>\n",
        "      <th>trimmed U0 chg</th>\n",
        "      <th>trimmed U1+ chg</th>\n",
        "      <th>intact any chg</th>\n",
        "      <th>trimmed any chg</th>\n",
        "    </tr>\n",
        "  </thead>\n",
        "  <tbody>\n",
        "    <tr>\n",
        "      <th>hsa-let-7a-1</th>\n",
        "      <td> 87</td>\n",
        "      <td> 19927.774017</td>\n",
        "      <td> 1182.054016</td>\n",
        "      <td>  6240.686669</td>\n",
        "      <td>  8048.315904</td>\n",
        "      <td> 0.814156</td>\n",
        "      <td> 0.130662</td>\n",
        "      <td> 0.468245</td>\n",
        "      <td> 0.060466</td>\n",
        "      <td>-0.158313</td>\n",
        "      <td>-2.473030</td>\n",
        "      <td> 2.879194</td>\n",
        "      <td> 1.655642</td>\n",
        "      <td>-1.674988</td>\n",
        "      <td> 2.767287</td>\n",
        "    </tr>\n",
        "    <tr>\n",
        "      <th>hsa-let-7a-2</th>\n",
        "      <td> 81</td>\n",
        "      <td>  6538.290045</td>\n",
        "      <td>    1.229002</td>\n",
        "      <td>  2239.193749</td>\n",
        "      <td>    25.265938</td>\n",
        "      <td> 0.000015</td>\n",
        "      <td> 0.075244</td>\n",
        "      <td> 0.000045</td>\n",
        "      <td> 0.077182</td>\n",
        "      <td>-1.545892</td>\n",
        "      <td> 0.000000</td>\n",
        "      <td> 4.144746</td>\n",
        "      <td> 4.291154</td>\n",
        "      <td>-1.545892</td>\n",
        "      <td> 4.254477</td>\n",
        "    </tr>\n",
        "    <tr>\n",
        "      <th>hsa-let-7a-3</th>\n",
        "      <td> 82</td>\n",
        "      <td> 31559.539488</td>\n",
        "      <td> 6858.076337</td>\n",
        "      <td> 10915.814081</td>\n",
        "      <td> 18936.077363</td>\n",
        "      <td> 0.466640</td>\n",
        "      <td> 0.056571</td>\n",
        "      <td> 0.193584</td>\n",
        "      <td> 0.017998</td>\n",
        "      <td>-0.935226</td>\n",
        "      <td>-2.800995</td>\n",
        "      <td> 1.523045</td>\n",
        "      <td>-0.186952</td>\n",
        "      <td>-1.531648</td>\n",
        "      <td> 1.465248</td>\n",
        "    </tr>\n",
        "    <tr>\n",
        "      <th>hsa-let-7b</th>\n",
        "      <td> 90</td>\n",
        "      <td> 33503.328875</td>\n",
        "      <td> 4926.822770</td>\n",
        "      <td> 16068.950745</td>\n",
        "      <td> 12532.090992</td>\n",
        "      <td> 0.445707</td>\n",
        "      <td> 0.218884</td>\n",
        "      <td> 0.098243</td>\n",
        "      <td> 0.113442</td>\n",
        "      <td>-0.357931</td>\n",
        "      <td>-3.241701</td>\n",
        "      <td> 1.529534</td>\n",
        "      <td> 0.398670</td>\n",
        "      <td>-1.060024</td>\n",
        "      <td> 1.346880</td>\n",
        "    </tr>\n",
        "    <tr>\n",
        "      <th>hsa-let-7c</th>\n",
        "      <td> 87</td>\n",
        "      <td>  4561.563408</td>\n",
        "      <td>   63.416497</td>\n",
        "      <td>  1527.103013</td>\n",
        "      <td>    56.105245</td>\n",
        "      <td> 0.000022</td>\n",
        "      <td> 0.082842</td>\n",
        "      <td> 0.000065</td>\n",
        "      <td> 0.057970</td>\n",
        "      <td>-1.578668</td>\n",
        "      <td> 0.000000</td>\n",
        "      <td>-0.137577</td>\n",
        "      <td>-0.691465</td>\n",
        "      <td>-1.578668</td>\n",
        "      <td>-0.176427</td>\n",
        "    </tr>\n",
        "  </tbody>\n",
        "</table>\n",
        "</div>"
       ],
       "metadata": {},
       "output_type": "pyout",
       "prompt_number": 420,
       "text": [
        "              mostfreq  intact readcount ctl  trimmed readcount ctl  \\\n",
        "hsa-let-7a-1        87          19927.774017            1182.054016   \n",
        "hsa-let-7a-2        81           6538.290045               1.229002   \n",
        "hsa-let-7a-3        82          31559.539488            6858.076337   \n",
        "hsa-let-7b          90          33503.328875            4926.822770   \n",
        "hsa-let-7c          87           4561.563408              63.416497   \n",
        "\n",
        "              intact readcount kd  trimmed readcount kd  intact urate ctl  \\\n",
        "hsa-let-7a-1          6240.686669           8048.315904          0.814156   \n",
        "hsa-let-7a-2          2239.193749             25.265938          0.000015   \n",
        "hsa-let-7a-3         10915.814081          18936.077363          0.466640   \n",
        "hsa-let-7b           16068.950745          12532.090992          0.445707   \n",
        "hsa-let-7c            1527.103013             56.105245          0.000022   \n",
        "\n",
        "              trimmed urate ctl  intact urate kd  trimmed urate kd  \\\n",
        "hsa-let-7a-1           0.130662         0.468245          0.060466   \n",
        "hsa-let-7a-2           0.075244         0.000045          0.077182   \n",
        "hsa-let-7a-3           0.056571         0.193584          0.017998   \n",
        "hsa-let-7b             0.218884         0.098243          0.113442   \n",
        "hsa-let-7c             0.082842         0.000065          0.057970   \n",
        "\n",
        "              intact U0 chg  intact U1+ chg  trimmed U0 chg  trimmed U1+ chg  \\\n",
        "hsa-let-7a-1      -0.158313       -2.473030        2.879194         1.655642   \n",
        "hsa-let-7a-2      -1.545892        0.000000        4.144746         4.291154   \n",
        "hsa-let-7a-3      -0.935226       -2.800995        1.523045        -0.186952   \n",
        "hsa-let-7b        -0.357931       -3.241701        1.529534         0.398670   \n",
        "hsa-let-7c        -1.578668        0.000000       -0.137577        -0.691465   \n",
        "\n",
        "              intact any chg  trimmed any chg  \n",
        "hsa-let-7a-1       -1.674988         2.767287  \n",
        "hsa-let-7a-2       -1.545892         4.254477  \n",
        "hsa-let-7a-3       -1.531648         1.465248  \n",
        "hsa-let-7b         -1.060024         1.346880  \n",
        "hsa-let-7c         -1.578668        -0.176427  "
       ]
      }
     ],
     "prompt_number": 420
    },
    {
     "cell_type": "code",
     "collapsed": false,
     "input": [
      "hairpins_grpII_let7 = set(\"\"\"hsa-let-7a-1 hsa-let-7a-3 hsa-let-7b hsa-let-7d hsa-let-7f-1 hsa-let-7f-2 hsa-let-7g \n",
      "                             hsa-let-7i hsa-mir-98\"\"\".split())\n",
      "hairpins_grpI_let7 = set(\"\"\"hsa-let-7a-2 hsa-let-7c hsa-let-7e\"\"\".split())\n",
      "\n",
      "modchange['let7grp'] = [('l7g1' if hp in hairpins_grpI_let7 else ('l7g2' if hp in hairpins_grpII_let7 else 'other'))\n",
      "                        for hp in modchange.index]"
     ],
     "language": "python",
     "metadata": {},
     "outputs": [],
     "prompt_number": 421
    },
    {
     "cell_type": "code",
     "collapsed": false,
     "input": [
      "modchange.to_csv('0812 modchange.csv')"
     ],
     "language": "python",
     "metadata": {},
     "outputs": [],
     "prompt_number": 422
    },
    {
     "cell_type": "markdown",
     "metadata": {},
     "source": [
      "Plotting a scatter"
     ]
    },
    {
     "cell_type": "code",
     "collapsed": false,
     "input": [
      "MINIMUM_INTACT = 100\n",
      "MINIMUM_TRIMMED = 10\n",
      "subsettbl = modchange[(modchange['intact readcount ctl'] > MINIMUM_INTACT) &\n",
      "                      (modchange['trimmed readcount ctl'] > MINIMUM_TRIMMED)]"
     ],
     "language": "python",
     "metadata": {},
     "outputs": [],
     "prompt_number": 423
    },
    {
     "cell_type": "code",
     "collapsed": false,
     "input": [
      "subsettbl[~subsettbl.index.isin(PRIMED)]"
     ],
     "language": "python",
     "metadata": {},
     "outputs": [
      {
       "html": [
        "<div style=\"max-height:1000px;max-width:1500px;overflow:auto;\">\n",
        "<table border=\"1\" class=\"dataframe\">\n",
        "  <thead>\n",
        "    <tr style=\"text-align: right;\">\n",
        "      <th></th>\n",
        "      <th>mostfreq</th>\n",
        "      <th>intact readcount ctl</th>\n",
        "      <th>trimmed readcount ctl</th>\n",
        "      <th>intact readcount kd</th>\n",
        "      <th>trimmed readcount kd</th>\n",
        "      <th>intact urate ctl</th>\n",
        "      <th>trimmed urate ctl</th>\n",
        "      <th>intact urate kd</th>\n",
        "      <th>trimmed urate kd</th>\n",
        "      <th>intact U0 chg</th>\n",
        "      <th>intact U1+ chg</th>\n",
        "      <th>trimmed U0 chg</th>\n",
        "      <th>trimmed U1+ chg</th>\n",
        "      <th>intact any chg</th>\n",
        "      <th>trimmed any chg</th>\n",
        "      <th>let7grp</th>\n",
        "    </tr>\n",
        "  </thead>\n",
        "  <tbody>\n",
        "    <tr>\n",
        "      <th>hsa-mir-30c-2</th>\n",
        "      <td> 78</td>\n",
        "      <td> 20865.748258</td>\n",
        "      <td> 15.485424</td>\n",
        "      <td> 12213.851642</td>\n",
        "      <td> 20.621464</td>\n",
        "      <td> 0.000005</td>\n",
        "      <td> 0.006416</td>\n",
        "      <td> 0.000008</td>\n",
        "      <td> 0.175171</td>\n",
        "      <td>-0.772614</td>\n",
        "      <td> 0</td>\n",
        "      <td> 0.141512</td>\n",
        "      <td> 5.181818</td>\n",
        "      <td>-0.772614</td>\n",
        "      <td> 0.410929</td>\n",
        "      <td> other</td>\n",
        "    </tr>\n",
        "  </tbody>\n",
        "</table>\n",
        "</div>"
       ],
       "metadata": {},
       "output_type": "pyout",
       "prompt_number": 424,
       "text": [
        "               mostfreq  intact readcount ctl  trimmed readcount ctl  \\\n",
        "hsa-mir-30c-2        78          20865.748258              15.485424   \n",
        "\n",
        "               intact readcount kd  trimmed readcount kd  intact urate ctl  \\\n",
        "hsa-mir-30c-2         12213.851642             20.621464          0.000005   \n",
        "\n",
        "               trimmed urate ctl  intact urate kd  trimmed urate kd  \\\n",
        "hsa-mir-30c-2           0.006416         0.000008          0.175171   \n",
        "\n",
        "               intact U0 chg  intact U1+ chg  trimmed U0 chg  trimmed U1+ chg  \\\n",
        "hsa-mir-30c-2      -0.772614               0        0.141512         5.181818   \n",
        "\n",
        "               intact any chg  trimmed any chg let7grp  \n",
        "hsa-mir-30c-2       -0.772614         0.410929   other  "
       ]
      }
     ],
     "prompt_number": 424
    },
    {
     "cell_type": "markdown",
     "metadata": {},
     "source": [
      "No need to filter out the hairpins not primed."
     ]
    },
    {
     "cell_type": "code",
     "collapsed": false,
     "input": [
      "g2c = {'l7g1': 'red', 'l7g2': 'blue', 'other': '#cccccc'}\n",
      "plt.scatter(subsettbl['intact urate ctl'], subsettbl['trimmed any chg'], c=[g2c[g] for g in subsettbl['let7grp']],\n",
      "            edgecolor='none', s=25)\n",
      "#plt.gca().set_aspect(1)\n",
      "for i, row in subsettbl.iterrows():\n",
      "    if row['let7grp'].startswith('l7') or row['trimmed any chg'] > 2 or row['intact urate ctl'] > 0:\n",
      "        plt.annotate(i[4:], (row['intact urate ctl'], row['trimmed any chg']), alpha=0.3)"
     ],
     "language": "python",
     "metadata": {},
     "outputs": [
      {
       "metadata": {},
       "output_type": "display_data",
       "png": "[encoded data removed]",
       "text": [
        "<matplotlib.figure.Figure at 0x7fa9d788ac18>"
       ]
      }
     ],
     "prompt_number": 425
    },
    {
     "cell_type": "code",
     "collapsed": false,
     "input": [
      "from rpy import r\n",
      "r.cor(list(subsettbl['intact urate ctl']), list(subsettbl['trimmed any chg'])), \\\n",
      "r.cor(list(subsettbl['intact urate ctl']), list(subsettbl['trimmed any chg']), method='spearman')"
     ],
     "language": "python",
     "metadata": {},
     "outputs": [
      {
       "metadata": {},
       "output_type": "pyout",
       "prompt_number": 426,
       "text": [
        "([0.3368176506280968], [0.3852991452991452])"
       ]
      }
     ],
     "prompt_number": 426
    },
    {
     "cell_type": "code",
     "collapsed": false,
     "input": [
      "r.cor_test(list(subsettbl['intact urate ctl']), list(subsettbl['trimmed any chg']))['p.value'], \\\n",
      "r.cor_test(list(subsettbl['intact urate ctl']), list(subsettbl['trimmed any chg']), method='spearman')['p.value']"
     ],
     "language": "python",
     "metadata": {},
     "outputs": [
      {
       "metadata": {},
       "output_type": "pyout",
       "prompt_number": 427,
       "text": [
        "([0.0924631950557051], [0.05281012283449587])"
       ]
      }
     ],
     "prompt_number": 427
    },
    {
     "cell_type": "code",
     "collapsed": false,
     "input": [
      "g2c = {'l7g1': 'red', 'l7g2': 'blue', 'other': '#cccccc'}\n",
      "plt.scatter(subsettbl['intact any chg'], subsettbl['trimmed any chg'], c=[g2c[g] for g in subsettbl['let7grp']],\n",
      "            edgecolor='none', s=25)\n",
      "for i, row in subsettbl.iterrows():\n",
      "    if row['let7grp'].startswith('l7') or row['trimmed any chg'] > 2:\n",
      "        plt.annotate(i[4:], (row['intact any chg'], row['trimmed any chg']), alpha=0.3)\n",
      "plt.gca().set_aspect(1)"
     ],
     "language": "python",
     "metadata": {},
     "outputs": [
      {
       "metadata": {},
       "output_type": "display_data",
       "png": "[encoded data removed]",
       "text": [
        "<matplotlib.figure.Figure at 0x7fa9d7a2df98>"
       ]
      }
     ],
     "prompt_number": 428
    },
    {
     "cell_type": "code",
     "collapsed": false,
     "input": [
      "g2c = {'l7g1': 'red', 'l7g2': 'blue', 'other': '#cccccc'}\n",
      "\n",
      "#nolet7 = subsettbl[subsettbl['let7grp'] == 'other']\n",
      "nolet7 = subsettbl\n",
      "\n",
      "x = nolet7['trimmed urate kd'] - nolet7['trimmed urate ctl']\n",
      "plt.scatter(x, nolet7['trimmed any chg'], c=[g2c[g] for g in nolet7['let7grp']],\n",
      "            edgecolor='none', s=25)\n",
      "#plt.gca().set_aspect(1)\n",
      "plt.axhline(0, c='black', lw=2)\n",
      "plt.axvline(0, c='black', lw=2)\n",
      "#for i, row in nolet7.iterrows():\n",
      "#    if row['let7grp'].startswith('l7') or row['trimmed any chg'] > 2 or row['intact urate ctl'] > 0:\n",
      "#        plt.annotate(i[4:], (row['trimmed urate kd'] - row['trimmed urate ctl'], row['trimmed any chg']), alpha=0.3)"
     ],
     "language": "python",
     "metadata": {},
     "outputs": [
      {
       "metadata": {},
       "output_type": "pyout",
       "prompt_number": 429,
       "text": [
        "<matplotlib.lines.Line2D at 0x7fa9d7996d68>"
       ]
      },
      {
       "metadata": {},
       "output_type": "display_data",
       "png": "[encoded data removed]",
       "text": [
        "<matplotlib.figure.Figure at 0x7fa9dcc840b8>"
       ]
      }
     ],
     "prompt_number": 429
    },
    {
     "cell_type": "code",
     "collapsed": false,
     "input": [
      "r.cor(list(nolet7['trimmed urate kd'] - nolet7['trimmed urate ctl']), list(nolet7['trimmed any chg']),\n",
      "      method='spearman')"
     ],
     "language": "python",
     "metadata": {},
     "outputs": [
      {
       "metadata": {},
       "output_type": "pyout",
       "prompt_number": 430,
       "text": [
        "[-0.2676923076923077]"
       ]
      }
     ],
     "prompt_number": 430
    },
    {
     "cell_type": "code",
     "collapsed": false,
     "input": [
      "g2c = {'l7g1': 'red', 'l7g2': 'blue', 'other': '#cccccc'}\n",
      "plt.scatter(subsettbl['trimmed urate kd'] / subsettbl['trimmed urate ctl'],\n",
      "            subsettbl['trimmed any chg'], c=[g2c[g] for g in subsettbl['let7grp']],\n",
      "            edgecolor='none', s=25)\n",
      "#for i, row in subsettbl.iterrows():\n",
      "#    if row['let7grp'].startswith('l7') or row['trimmed urate ctl'] > 2:\n",
      "#        plt.annotate(i[4:], (row['trimmed urate ctl'], row['trimmed any chg']), alpha=0.3)\n",
      "#plt.gca().set_aspect(1)"
     ],
     "language": "python",
     "metadata": {},
     "outputs": [
      {
       "metadata": {},
       "output_type": "pyout",
       "prompt_number": 431,
       "text": [
        "<matplotlib.collections.PathCollection at 0x7fa9d78b9e48>"
       ]
      },
      {
       "metadata": {},
       "output_type": "display_data",
       "png": "[encoded data removed]",
       "text": [
        "<matplotlib.figure.Figure at 0x7fa9d79aaa90>"
       ]
      }
     ],
     "prompt_number": 431
    },
    {
     "cell_type": "code",
     "collapsed": false,
     "input": [
      "g2c = {'l7g1': 'red', 'l7g2': 'blue', 'other': '#cccccc'}\n",
      "\n",
      "plt.figure(figsize=(12, 8))\n",
      "plt.scatter(subsettbl['intact U1+ chg'], subsettbl['trimmed U1+ chg'],\n",
      "            c=[g2c[g] for g in subsettbl['let7grp']],\n",
      "            edgecolor='none', s=25)\n",
      "plt.gca().set_aspect(1)"
     ],
     "language": "python",
     "metadata": {},
     "outputs": [
      {
       "metadata": {},
       "output_type": "display_data",
       "png": "[encoded data removed]",
       "text": [
        "<matplotlib.figure.Figure at 0x7fa9d7996ac8>"
       ]
      }
     ],
     "prompt_number": 432
    },
    {
     "cell_type": "code",
     "collapsed": false,
     "input": [
      "subsettbl['trimmed urate ctl'].product() ** (1/len(subsettbl))"
     ],
     "language": "python",
     "metadata": {},
     "outputs": [
      {
       "metadata": {},
       "output_type": "pyout",
       "prompt_number": 433,
       "text": [
        "0.092221990395008405"
       ]
      }
     ],
     "prompt_number": 433
    },
    {
     "cell_type": "code",
     "collapsed": false,
     "input": [
      "subsettbl['trimmed urate kd'].product() ** (1/len(subsettbl))"
     ],
     "language": "python",
     "metadata": {},
     "outputs": [
      {
       "metadata": {},
       "output_type": "pyout",
       "prompt_number": 434,
       "text": [
        "0.048800719669206516"
       ]
      }
     ],
     "prompt_number": 434
    },
    {
     "cell_type": "code",
     "collapsed": false,
     "input": [],
     "language": "python",
     "metadata": {},
     "outputs": [],
     "prompt_number": 434
    }
   ],
   "metadata": {}
  }
 ]
}